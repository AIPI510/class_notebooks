{
 "cells": [
  {
   "cell_type": "markdown",
   "metadata": {},
   "source": [
    "<a href='https://ai.meng.duke.edu'> = <img align=\"left\" style=\"padding-top:10px;\" src=https://storage.googleapis.com/aipi_datasets/Duke-AIPI-Logo.png>"
   ]
  },
  {
   "cell_type": "markdown",
   "metadata": {},
   "source": [
    "# COVID Data Analysis - Working with API Data"
   ]
  },
  {
   "cell_type": "markdown",
   "metadata": {},
   "source": [
    "Data from COVID Tracking Project (https://covidtracking.com/api)"
   ]
  },
  {
   "cell_type": "code",
   "execution_count": null,
   "metadata": {},
   "outputs": [],
   "source": [
    "import requests\n",
    "import json\n",
    "import pandas as pd\n",
    "import numpy as np\n",
    "import matplotlib.pyplot as plt\n",
    "import matplotlib.dates as mdates"
   ]
  },
  {
   "cell_type": "markdown",
   "metadata": {},
   "source": [
    "## Exercise 0: Get the data\n",
    "Get data for the state of 'nc' from the Covid Tracking Project API (https://covidtracking.com/api) and put it into a pandas dataframe called ***state_covid_data***. We will put our code in the function ***get_data()***\n",
    "\n",
    "You can check out the requests package documentation at https://requests.readthedocs.io/en/master/user/quickstart/"
   ]
  },
  {
   "cell_type": "code",
   "execution_count": null,
   "metadata": {},
   "outputs": [],
   "source": [
    "def get_data(state):\n",
    "    # One approach to building this (there may be others that work):\n",
    "    #   Set endpoint (format described on https://covidtracking.com/api)\n",
    "    #   Make API request using requests\n",
    "    #   Decode JSON response\n",
    "    #   Convert response to pandas dataframe\n",
    "\n",
    "    ### BEGIN SOLUTION\n",
    "\n",
    "    \n",
    "    ### END SOLUTION\n",
    "    return state_covid_data\n",
    "\n",
    "state = \"nc\"\n",
    "state_covid_data = get_data(state)\n",
    "state_covid_data.head().T"
   ]
  },
  {
   "cell_type": "markdown",
   "metadata": {},
   "source": [
    "## Exercise 1: Clean up and plot the data\n",
    "Clean up the dataframe as follows:  \n",
    "- Convert the 'date' column to pandas datetime\n",
    "- Set the dataframe index to the 'date'\n",
    "\n",
    "Then, plot the daily number of new cases ('positiveIncrease') over time as a line chart"
   ]
  },
  {
   "cell_type": "code",
   "execution_count": null,
   "metadata": {},
   "outputs": [],
   "source": [
    "### BEGIN SOLUTION\n",
    "\n",
    "\n",
    "### END SOLUTION"
   ]
  }
 ],
 "metadata": {
  "kernelspec": {
   "display_name": "Python 3",
   "language": "python",
   "name": "python3"
  },
  "language_info": {
   "codemirror_mode": {
    "name": "ipython",
    "version": 3
   },
   "file_extension": ".py",
   "mimetype": "text/x-python",
   "name": "python",
   "nbconvert_exporter": "python",
   "pygments_lexer": "ipython3",
   "version": "3.7.6"
  }
 },
 "nbformat": 4,
 "nbformat_minor": 4
}
