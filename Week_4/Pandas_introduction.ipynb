{
 "cells": [
  {
   "cell_type": "markdown",
   "metadata": {},
   "source": [
    "<a href='https://ai.meng.duke.edu'> = <img align=\"left\" style=\"padding-top:10px;\" src=\"Duke-AIPI-Logo.png\">"
   ]
  },
  {
   "cell_type": "markdown",
   "metadata": {},
   "source": [
    "# Introduction to pandas"
   ]
  },
  {
   "cell_type": "markdown",
   "metadata": {},
   "source": [
    "Data used in this exercise has been modified from the winemag-data-130k file which can be downloaded from Kaggle: https://www.kaggle.com/christopheiv/winemagdata130k"
   ]
  },
  {
   "cell_type": "code",
   "execution_count": null,
   "metadata": {},
   "outputs": [],
   "source": [
    "import pandas as pd\n",
    "import numpy as np\n",
    "\n",
    "# Disable pandas warnings\n",
    "pd.options.mode.chained_assignment = None  # default='warn'"
   ]
  },
  {
   "cell_type": "markdown",
   "metadata": {},
   "source": [
    "### Create a simple DataFrame"
   ]
  },
  {
   "cell_type": "code",
   "execution_count": null,
   "metadata": {},
   "outputs": [],
   "source": [
    "# Create a DataFrame from a dictionary of lists\n",
    "population = [38332521, 26448193, 19651127, 19552860, 12882135]\n",
    "area = [423967, 170312, 149995, 141297, 695662]\n",
    "state_names = ['California','Florida','Illinois','New York','Texas']\n",
    "states_df = pd.DataFrame({'Population':population,'Area':area},index=state_names) # Index specifies row names\n",
    "states_df"
   ]
  },
  {
   "cell_type": "code",
   "execution_count": null,
   "metadata": {},
   "outputs": [],
   "source": [
    "# Create a DataFrame from a 2D NumPy array.  You can define the index and column names using lists\n",
    "state_array = np.array([[38332521,423967],[26448193,170312],[19651127,149995],[19552860,141297],[12882135,695662]])\n",
    "state_names = ['California','Florida','Illinois','New York','Texas']\n",
    "states_df = pd.DataFrame(state_array,index=state_names,columns=['Population','Area'])\n",
    "states_df"
   ]
  },
  {
   "cell_type": "markdown",
   "metadata": {},
   "source": [
    "# Gather data"
   ]
  },
  {
   "cell_type": "markdown",
   "metadata": {},
   "source": [
    "### Read in data from a file"
   ]
  },
  {
   "cell_type": "markdown",
   "metadata": {},
   "source": [
    "Pandas can read in data from a number of different file formats (even Excel files!).  The most common formats we will use are csv files and txt files. Pandas is usually able to infer the header (column names) of the data.  If you know that your file contains dates which you would like pandas to automatically parse into its datetime format, you can set parse_dates=True"
   ]
  },
  {
   "cell_type": "code",
   "execution_count": null,
   "metadata": {},
   "outputs": [],
   "source": [
    "# Read in file using pd.read_csv()\n",
    "wine_df = pd.read_csv('wine-ratings.csv')\n",
    "\n",
    "# Display header (first five rows)\n",
    "wine_df.head()"
   ]
  },
  {
   "cell_type": "markdown",
   "metadata": {},
   "source": [
    "### Understand data structure and contents"
   ]
  },
  {
   "cell_type": "code",
   "execution_count": null,
   "metadata": {},
   "outputs": [],
   "source": [
    "# Display shape of data\n",
    "wine_df.shape"
   ]
  },
  {
   "cell_type": "code",
   "execution_count": null,
   "metadata": {},
   "outputs": [],
   "source": [
    "# Get type of each column\n",
    "wine_df.dtypes"
   ]
  },
  {
   "cell_type": "code",
   "execution_count": null,
   "metadata": {
    "scrolled": true
   },
   "outputs": [],
   "source": [
    "# Get statistics on any numerical columns\n",
    "wine_df.describe()"
   ]
  },
  {
   "cell_type": "code",
   "execution_count": null,
   "metadata": {},
   "outputs": [],
   "source": [
    "# We can use .unique() and .nunique() to look at the unique values in a column\n",
    "# E.g. how many different tasters are there?\n",
    "wine_df['taster_name'].nunique()"
   ]
  },
  {
   "cell_type": "code",
   "execution_count": null,
   "metadata": {},
   "outputs": [],
   "source": [
    "# What are the names of the different tasters?\n",
    "wine_df['taster_name'].unique()"
   ]
  },
  {
   "cell_type": "markdown",
   "metadata": {},
   "source": [
    "### Combine dataframes"
   ]
  },
  {
   "cell_type": "markdown",
   "metadata": {},
   "source": [
    "We can see above that our wine_df dataframe contains information on the winery and region for each wine, but what if we want to know where each wine is from? We can import another file which contains a list of all the wineries and associated location.  We then have to merge this dataframe to our original wine_df."
   ]
  },
  {
   "cell_type": "code",
   "execution_count": null,
   "metadata": {},
   "outputs": [],
   "source": [
    "# Read in the dataframe containing winery locations\n",
    "wineries = pd.read_csv('wineries.csv')\n",
    "wineries.head()"
   ]
  },
  {
   "cell_type": "code",
   "execution_count": null,
   "metadata": {},
   "outputs": [],
   "source": [
    "# Merge wineries onto wines_df\n",
    "# We can see they share two common columns: 'winery' and 'region_1' so let's use both as the merge keys\n",
    "# We will do a left merge to preserve all entries in the left dataframe (wine_df) even if there is no corresponding\n",
    "# entry in the right dataframe (wineries)\n",
    "wines_wlocations = wine_df.merge(wineries,how='left',on=['winery','region_1'])\n",
    "\n",
    "# Display the header of our new merged df\n",
    "wines_wlocations.head()"
   ]
  },
  {
   "cell_type": "markdown",
   "metadata": {},
   "source": [
    "### Simplify and clean up columns"
   ]
  },
  {
   "cell_type": "markdown",
   "metadata": {},
   "source": [
    "We often want to simplify the columns of our dataframe to remove duplicate or unnecessary data from the raw data.  We can do this using the pandas drop() command"
   ]
  },
  {
   "cell_type": "code",
   "execution_count": null,
   "metadata": {},
   "outputs": [],
   "source": [
    "# In our dataframe we have a duplicate index column (\"Unnamed: 0\").  Let's remove it\n",
    "wines_wlocations = wines_wlocations.drop(labels=['Unnamed: 0'],axis=1) # Set axis 1 to drop it from columns\n",
    "wines_wlocations.head()"
   ]
  },
  {
   "cell_type": "markdown",
   "metadata": {},
   "source": [
    "We often want to rename columns so that they make more sense.  We can do this with the rename() command"
   ]
  },
  {
   "cell_type": "code",
   "execution_count": null,
   "metadata": {},
   "outputs": [],
   "source": [
    "# Let's change the \"title\" column to \"name\" \n",
    "wines_wlocations.rename(columns={'title':'name'},inplace=True) # Specify inplace=True to perform it on original df\n",
    "wines_wlocations.head()"
   ]
  },
  {
   "cell_type": "markdown",
   "metadata": {},
   "source": [
    "# Validate data"
   ]
  },
  {
   "cell_type": "markdown",
   "metadata": {},
   "source": [
    "### Changing types"
   ]
  },
  {
   "cell_type": "code",
   "execution_count": null,
   "metadata": {},
   "outputs": [],
   "source": [
    "# Reminder, you can view the type of all columns using .dtypes\n",
    "wines_wlocations.dtypes"
   ]
  },
  {
   "cell_type": "code",
   "execution_count": null,
   "metadata": {},
   "outputs": [],
   "source": [
    "# Let's change the 'points' column from an int to a float\n",
    "wines_wlocations['points'] = wines_wlocations['points'].astype(float)\n",
    "wines_wlocations.dtypes"
   ]
  },
  {
   "cell_type": "markdown",
   "metadata": {},
   "source": [
    "### Remove missing data"
   ]
  },
  {
   "cell_type": "code",
   "execution_count": null,
   "metadata": {},
   "outputs": [],
   "source": [
    "# Check for missing data\n",
    "wines_wlocations.isnull().sum()"
   ]
  },
  {
   "cell_type": "code",
   "execution_count": null,
   "metadata": {},
   "outputs": [],
   "source": [
    "# Drop rows for which 'country' or 'price' is blank\n",
    "wines_wloc_clean = wines_wlocations.dropna(axis=0,subset=['country','price']) # Axis=0 drops rows with missing values\n",
    "\n",
    "# Check the original shape\n",
    "print('Dataframe shape before removing missing data was {}'.format(wines_wlocations.shape))\n",
    "# Check the new shape after dropping rows missing the country\n",
    "print('Dataframe shape after removing missing data is {}'.format(wines_wloc_clean.shape))"
   ]
  },
  {
   "cell_type": "markdown",
   "metadata": {},
   "source": [
    "### Create new derivative columns"
   ]
  },
  {
   "cell_type": "markdown",
   "metadata": {},
   "source": [
    "Let's say we want to define a new column 'points-price ratio' which stores the ratio of the wine's points to it's price."
   ]
  },
  {
   "cell_type": "code",
   "execution_count": null,
   "metadata": {
    "scrolled": false
   },
   "outputs": [],
   "source": [
    "# Define new column 'points-price ratio' as ratio of two existing columns 'points' and 'price'\n",
    "wines_wloc_clean['points-price ratio'] = wines_wloc_clean['points'] / wines_wloc_clean['price']\n",
    "\n",
    "wines_wloc_clean.head()"
   ]
  },
  {
   "cell_type": "markdown",
   "metadata": {},
   "source": [
    "Now suppose we also want to create a column 'vintage_year' which contains the vintage year of the wine.  If we look at our dataframe, we can see that the year is contained in the 'name' column strings.  We will need to parse it out using a regular expression and store it in a new column.  We can use the .map() method to map a lambda function (for example, containing a regular expression in this case) to each row of the dataframe"
   ]
  },
  {
   "cell_type": "code",
   "execution_count": null,
   "metadata": {},
   "outputs": [],
   "source": [
    "# Create a new column 'vintage_year' that parses the year from the 'name' column\n",
    "\n",
    "import re # Import regular expressions\n",
    "\n",
    "# Write a function to find a pattern of 4 digits in a string (first two being 19 or 20)\n",
    "# Return the first instance of the pattern as 'year'\n",
    "def find_year(x):\n",
    "    pattern = r'\\b(19)\\d{2}\\b|\\b(20)\\d{2}\\b' # regular expression pattern for 4 digits in a row\n",
    "    m = re.search(pattern,x) # Searches the input string x for the pattern\n",
    "    year = m.group() if m else None # Sets 'year' to the first found instance of the pattern\n",
    "    return year\n",
    "\n",
    "# Apply this function to the 'name' column using the .map() method\n",
    "wines_wloc_clean['vintage_year'] = wines_wloc_clean['name'].map(lambda x: find_year(x))\n",
    "\n",
    "wines_wloc_clean.head()"
   ]
  },
  {
   "cell_type": "markdown",
   "metadata": {},
   "source": [
    "# Explore data"
   ]
  },
  {
   "cell_type": "markdown",
   "metadata": {},
   "source": [
    "### Slicing data"
   ]
  },
  {
   "cell_type": "markdown",
   "metadata": {},
   "source": [
    "We slice data in pandas using one of two ways:  \n",
    "    1) Using the integer index values and .iloc[ ]  \n",
    "    2) Using the labeled string indices and .loc[ ]"
   ]
  },
  {
   "cell_type": "code",
   "execution_count": null,
   "metadata": {},
   "outputs": [],
   "source": [
    "# Get the first three columns in the dataframe using .iloc[ ]\n",
    "wines_wloc_clean.iloc[:,:3]"
   ]
  },
  {
   "cell_type": "code",
   "execution_count": null,
   "metadata": {},
   "outputs": [],
   "source": [
    "# Get the first three columns in the dataframe using .loc[ ]\n",
    "wines_wloc_clean.loc[:,['description','designation','points']]"
   ]
  },
  {
   "cell_type": "markdown",
   "metadata": {},
   "source": [
    "### Filtering data"
   ]
  },
  {
   "cell_type": "markdown",
   "metadata": {},
   "source": [
    "We can use Boolean masks to filter dataframes based on conditions."
   ]
  },
  {
   "cell_type": "code",
   "execution_count": null,
   "metadata": {
    "scrolled": true
   },
   "outputs": [],
   "source": [
    "# Filter the dataframe to get all wines produced in the US\n",
    "US_wines = wines_wloc_clean[wines_wloc_clean['country']=='US']\n",
    "\n",
    "US_wines.head()"
   ]
  },
  {
   "cell_type": "markdown",
   "metadata": {},
   "source": [
    "We can also use multiple conditions together to filter a dataframe"
   ]
  },
  {
   "cell_type": "code",
   "execution_count": null,
   "metadata": {},
   "outputs": [],
   "source": [
    "# Filter the dataframe to get all wines produced in France with a point score > 90\n",
    "Best_french_wines = wines_wloc_clean[(wines_wloc_clean['country']=='France') & (wines_wloc_clean['points']>90)]\n",
    "\n",
    "Best_french_wines.head()"
   ]
  },
  {
   "cell_type": "markdown",
   "metadata": {},
   "source": [
    "### Sorting data"
   ]
  },
  {
   "cell_type": "markdown",
   "metadata": {},
   "source": [
    "Let's sort our US_wines dataframe by 'points-price ratio' to see which American wine gives us the best ratio of quality to price"
   ]
  },
  {
   "cell_type": "code",
   "execution_count": null,
   "metadata": {},
   "outputs": [],
   "source": [
    "# Sort the dataframe by 'points-price ratio'. Set ascending=False to display highest values first\n",
    "US_wines.sort_values(by='points-price ratio',ascending=False)"
   ]
  },
  {
   "cell_type": "markdown",
   "metadata": {},
   "source": [
    "### Grouping data and aggregations"
   ]
  },
  {
   "cell_type": "markdown",
   "metadata": {},
   "source": [
    "We can use the pandas groupby() method to group data according to common values in one or more columns"
   ]
  },
  {
   "cell_type": "code",
   "execution_count": null,
   "metadata": {
    "scrolled": true
   },
   "outputs": [],
   "source": [
    "# Group the dataframe by country and display the mean 'points' score for each country's wines\n",
    "wines_wloc_clean.groupby('country')['points'].mean()"
   ]
  },
  {
   "cell_type": "code",
   "execution_count": null,
   "metadata": {},
   "outputs": [],
   "source": [
    "# Display the number of wines per country in the dataset\n",
    "wines_wloc_clean['country'].value_counts()"
   ]
  },
  {
   "cell_type": "markdown",
   "metadata": {},
   "source": [
    "After grouping, we can also use the agg() method to compute multiple aggregate statistics on the groups"
   ]
  },
  {
   "cell_type": "code",
   "execution_count": null,
   "metadata": {
    "scrolled": true
   },
   "outputs": [],
   "source": [
    "# Let's look at the reviews by taster and see if there are any notable differences in points awarded\n",
    "wines_wloc_clean.groupby('taster_name')['points'].agg(['count','min','median','max'])"
   ]
  },
  {
   "cell_type": "markdown",
   "metadata": {},
   "source": [
    "### Calculating statistics"
   ]
  },
  {
   "cell_type": "code",
   "execution_count": null,
   "metadata": {
    "scrolled": true
   },
   "outputs": [],
   "source": [
    "# We can calculate statistics on individual rows, or use the describe() method\n",
    "wines_wloc_clean.describe()"
   ]
  },
  {
   "cell_type": "markdown",
   "metadata": {},
   "source": [
    "### Visualizations"
   ]
  },
  {
   "cell_type": "markdown",
   "metadata": {},
   "source": [
    "Visualizations are a great way to explore your data.  We will use the matplotlib library for visualizations, although there are other popular options such as seaborn or plotly.  In this exercise we will cover only a couple simple visualizations, but we will discuss visual analysis techniques in much greater detail in a later lecture."
   ]
  },
  {
   "cell_type": "code",
   "execution_count": null,
   "metadata": {},
   "outputs": [],
   "source": [
    "import matplotlib.pyplot as plt"
   ]
  },
  {
   "cell_type": "code",
   "execution_count": null,
   "metadata": {
    "scrolled": true
   },
   "outputs": [],
   "source": [
    "# Create a bar chart of the count of wines in the dataset by country\n",
    "\n",
    "counts_by_year = wines_wloc_clean['vintage_year'].value_counts()\n",
    "counts_by_year.sort_index(inplace=True)\n",
    "counts_by_year"
   ]
  },
  {
   "cell_type": "code",
   "execution_count": null,
   "metadata": {},
   "outputs": [],
   "source": [
    "plt.figure(figsize=(15,5))\n",
    "plt.bar(x=counts_by_year.index, height = counts_by_year)\n",
    "plt.xticks(rotation='60')\n",
    "plt.show()"
   ]
  },
  {
   "cell_type": "code",
   "execution_count": null,
   "metadata": {},
   "outputs": [],
   "source": []
  }
 ],
 "metadata": {
  "kernelspec": {
   "display_name": "Python 3",
   "language": "python",
   "name": "python3"
  },
  "language_info": {
   "codemirror_mode": {
    "name": "ipython",
    "version": 3
   },
   "file_extension": ".py",
   "mimetype": "text/x-python",
   "name": "python",
   "nbconvert_exporter": "python",
   "pygments_lexer": "ipython3",
   "version": "3.7.6"
  }
 },
 "nbformat": 4,
 "nbformat_minor": 4
}
