{
 "cells": [
  {
   "cell_type": "markdown",
   "metadata": {},
   "source": [
    "<a href='https://ai.meng.duke.edu'> = <img align=\"left\" style=\"padding-top:10px;\" src=\"Duke-AIPI-Logo.png\">"
   ]
  },
  {
   "cell_type": "markdown",
   "metadata": {},
   "source": [
    "# Introduction to NumPy"
   ]
  },
  {
   "cell_type": "code",
   "execution_count": null,
   "metadata": {},
   "outputs": [],
   "source": [
    "import numpy as np"
   ]
  },
  {
   "cell_type": "markdown",
   "metadata": {},
   "source": [
    "### Create a NumPy ndarray"
   ]
  },
  {
   "cell_type": "code",
   "execution_count": null,
   "metadata": {},
   "outputs": [],
   "source": [
    "# Method 1: from a Python list\n",
    "x_array = np.array([4.25, 3, 4, 5])\n",
    "print('x_array is: ',x_array)\n",
    "\n",
    "# Method 2: from scratch\n",
    "y_array = np.ones(3, dtype=int)\n",
    "print('y_array is: ',y_array)\n",
    "\n",
    "# Create a multidimensional array\n",
    "z_array = np.array([[2,3,4],[4,5,6],[7,8,9],[10,11,12]])\n",
    "print('z_array is: \\n',z_array)"
   ]
  },
  {
   "cell_type": "markdown",
   "metadata": {},
   "source": [
    "### Reshaping arrays"
   ]
  },
  {
   "cell_type": "code",
   "execution_count": null,
   "metadata": {},
   "outputs": [],
   "source": [
    "# Check the shape of an array\n",
    "z_array.shape"
   ]
  },
  {
   "cell_type": "code",
   "execution_count": null,
   "metadata": {},
   "outputs": [],
   "source": [
    "# Reshape the array by specifying the length of the dimensions we want\n",
    "z_reshaped = z_array.reshape((6,2))\n",
    "z_reshaped"
   ]
  },
  {
   "cell_type": "markdown",
   "metadata": {},
   "source": [
    "Sometimes we need to add extra dimensions to an array or remove an empty dimension in order for it to be used as an input to a function or model."
   ]
  },
  {
   "cell_type": "code",
   "execution_count": null,
   "metadata": {},
   "outputs": [],
   "source": [
    "# Add an extra dimension to an array\n",
    "z_reshaped = np.expand_dims(z_reshaped,axis=2)\n",
    "z_reshaped.shape"
   ]
  },
  {
   "cell_type": "code",
   "execution_count": null,
   "metadata": {
    "scrolled": true
   },
   "outputs": [],
   "source": [
    "# Remove a dimension which is empty (in this case, the 3rd dimension of our z_reshaped array)\n",
    "z_reshaped = z_reshaped.squeeze()\n",
    "z_reshaped.shape"
   ]
  },
  {
   "cell_type": "markdown",
   "metadata": {},
   "source": [
    "### Slicing arrays"
   ]
  },
  {
   "cell_type": "code",
   "execution_count": null,
   "metadata": {},
   "outputs": [],
   "source": [
    "# Retrieve an element of an array using its index value\n",
    "x = [1,2,3,4]\n",
    "x[1]"
   ]
  },
  {
   "cell_type": "code",
   "execution_count": null,
   "metadata": {},
   "outputs": [],
   "source": [
    "# Retrieve a slice of an array\n",
    "x[0:3:2] # Use start:stop:step (if you leave step out it is assumed to be 1)"
   ]
  },
  {
   "cell_type": "code",
   "execution_count": null,
   "metadata": {},
   "outputs": [],
   "source": [
    "# Can also use this technique to reverse an array by using step = -1\n",
    "x[::-1]"
   ]
  },
  {
   "cell_type": "code",
   "execution_count": null,
   "metadata": {
    "scrolled": true
   },
   "outputs": [],
   "source": [
    "# Retrieve a multi-dimensional slice\n",
    "z_reshaped[0:3,0]"
   ]
  },
  {
   "cell_type": "markdown",
   "metadata": {},
   "source": [
    "### Concatenating arrays"
   ]
  },
  {
   "cell_type": "code",
   "execution_count": null,
   "metadata": {},
   "outputs": [],
   "source": [
    "x = [[1,2],[3,4]]\n",
    "y = [[5,6],[7,8]]\n",
    "\n",
    "# Concatenate by adding the arrays together as rows (axis 0)\n",
    "xy1 = np.concatenate([x,y],axis=0)\n",
    "print('xy1: \\n',xy1)\n",
    "\n",
    "# Concatenate by adding the arrays together as columns (axis 1)\n",
    "xy2 = np.concatenate([x,y],axis=1)\n",
    "print('xy2: \\n',xy2)"
   ]
  },
  {
   "cell_type": "markdown",
   "metadata": {},
   "source": [
    "### Aggregations"
   ]
  },
  {
   "cell_type": "code",
   "execution_count": null,
   "metadata": {
    "scrolled": true
   },
   "outputs": [],
   "source": [
    "x = np.array([[1,2,3],[4,5,6],[7,8,9]])\n",
    "print('x: \\n',x)\n",
    "\n",
    "# Compute the sum of rows, columns and the array\n",
    "print('Sums of rows are: \\n', np.sum(x, axis=1)) # Sum all columns for each row\n",
    "print('Sums of columns are: \\n', np.sum(x, axis=0)) # Sum all rows for each column\n",
    "print('Sum of the full array is: \\n', np.sum(x)) # Sum the full array"
   ]
  },
  {
   "cell_type": "code",
   "execution_count": null,
   "metadata": {},
   "outputs": [],
   "source": [
    "x = np.array([[1,2,3],[4,5,6],[7,8,9]])\n",
    "print('x: \\n',x)\n",
    "\n",
    "# Compute mean, min, max for each row\n",
    "print('Max of rows are: ', np.max(x,axis=1))\n",
    "print('Min of rows are: ', np.min(x,axis=1))\n",
    "print('Means of rows are: ', np.mean(x,axis=1))\n",
    "\n",
    "# Compute mean, min, max for each column\n",
    "print('Max of rows are: ', np.max(x,axis=0))\n",
    "print('Min of rows are: ', np.min(x,axis=0))\n",
    "print('Means of rows are: ', np.mean(x,axis=0))"
   ]
  },
  {
   "cell_type": "markdown",
   "metadata": {},
   "source": [
    "### Operations via Broadcasting"
   ]
  },
  {
   "cell_type": "markdown",
   "metadata": {},
   "source": [
    "Operations on arrays can be performed using Python's standard operators, and are vectorized for much quicker calculation than loops"
   ]
  },
  {
   "cell_type": "code",
   "execution_count": null,
   "metadata": {},
   "outputs": [],
   "source": [
    "x = np.array([1,2,3])\n",
    "print('x = ', x)\n",
    "print('x+5 = ', x+5)\n",
    "print('x*5 = ', x*5)"
   ]
  },
  {
   "cell_type": "code",
   "execution_count": null,
   "metadata": {
    "scrolled": true
   },
   "outputs": [],
   "source": [
    "print('ln(x) = ',np.log(x))\n",
    "print('e^x = ',np.exp(x))"
   ]
  },
  {
   "cell_type": "markdown",
   "metadata": {},
   "source": [
    "### Comparisons & filtering arrays with Boolean masks"
   ]
  },
  {
   "cell_type": "markdown",
   "metadata": {},
   "source": [
    "Comparison operators can be used on arrays to return Boolean values. These Boolean values can then be used as a “mask” to filter arrays"
   ]
  },
  {
   "cell_type": "code",
   "execution_count": null,
   "metadata": {},
   "outputs": [],
   "source": [
    "x = np.array([1,2,3,4])\n",
    "# Use comparison operators to return an array of Boolean values\n",
    "print('x: ',x)\n",
    "print('x>2: ',x>2)\n",
    "print('x==4: ',x == 4)\n",
    "print('x!=2: ',x!=2)"
   ]
  },
  {
   "cell_type": "code",
   "execution_count": null,
   "metadata": {},
   "outputs": [],
   "source": [
    "# The returned Boolean array can be used as a \"mask\" or filter on the original array\n",
    "print(x[x>2]) # Returns all elements of x where x>2\n",
    "print(x[x!=2]) # Returns all elements of x where x is not equal to 2"
   ]
  },
  {
   "cell_type": "code",
   "execution_count": null,
   "metadata": {},
   "outputs": [],
   "source": [
    "# You can combine multiple conditions using bitwise Boolean operators (e.g. &,|)\n",
    "print(x[(x>2) & (x!=4)])"
   ]
  },
  {
   "cell_type": "markdown",
   "metadata": {},
   "source": [
    "### Sorting arrays"
   ]
  },
  {
   "cell_type": "markdown",
   "metadata": {},
   "source": [
    "You can sort arrays and return either the sorted values or the indices of the sorted values"
   ]
  },
  {
   "cell_type": "code",
   "execution_count": null,
   "metadata": {},
   "outputs": [],
   "source": [
    "x = np.array([[3,1,6],[5,0,3]])\n",
    "print('x: \\n',x)\n",
    "\n",
    "# Sort the array's rows\n",
    "y = np.sort(x, axis=1) # Sort on axis 1 (across)\n",
    "print('Sorted rows: \\n',y)\n",
    "\n",
    "# Sort the array's columns\n",
    "z = np.sort(x, axis=0) # Sort on axis 0 (down)\n",
    "print('Sorted rows: \\n',z)"
   ]
  },
  {
   "cell_type": "code",
   "execution_count": null,
   "metadata": {},
   "outputs": [],
   "source": [
    "# Return the sorted array's indices\n",
    "rowsort_indices = np.argsort(x, axis=1) # Return indices from sorting on axis 1 (across)\n",
    "print('Sorted rows: \\n',rowsort_indices)\n",
    "\n",
    "colsort_indices = np.argsort(x, axis=0) # Return indices from sorting on axis 0 (down)\n",
    "print('Sorted rows: \\n',colsort_indices)"
   ]
  }
 ],
 "metadata": {
  "kernelspec": {
   "display_name": "Python 3",
   "language": "python",
   "name": "python3"
  },
  "language_info": {
   "codemirror_mode": {
    "name": "ipython",
    "version": 3
   },
   "file_extension": ".py",
   "mimetype": "text/x-python",
   "name": "python",
   "nbconvert_exporter": "python",
   "pygments_lexer": "ipython3",
   "version": "3.7.6"
  }
 },
 "nbformat": 4,
 "nbformat_minor": 4
}
